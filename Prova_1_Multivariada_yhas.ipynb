{
  "nbformat": 4,
  "nbformat_minor": 0,
  "metadata": {
    "colab": {
      "provenance": []
    },
    "kernelspec": {
      "name": "python3",
      "display_name": "Python 3"
    },
    "language_info": {
      "name": "python"
    }
  },
  "cells": [
    {
      "cell_type": "markdown",
      "source": [
        "## Prova 1 Multivariada\n",
        "> Yhasmim tigre"
      ],
      "metadata": {
        "id": "aYmVLN5bWODF"
      }
    },
    {
      "cell_type": "code",
      "source": [
        "import numpy as np\n",
        "import matplotlib.pyplot as plt\n",
        "import networkx as nx\n",
        "from sklearn.decomposition import PCA\n",
        "from scipy.spatial.distance import cdist"
      ],
      "metadata": {
        "id": "_5v9p917W6xq"
      },
      "execution_count": null,
      "outputs": []
    },
    {
      "cell_type": "code",
      "source": [
        "X = np.array([\n",
        "    [75, 43, 17, 95, 9],\n",
        "    [0, 22, 0, 70, 11],\n",
        "    [55, 0, 4, 110, 0],\n",
        "    [0, 0, 12, 0, 11],\n",
        "    [0, 25, 0, 0, 19],\n",
        "    [35, 40, 0, 0, 0],\n",
        "    [135, 0, 5, 145, 25],\n",
        "    [0, 40, 27, 180, 15],\n",
        "    [75, 0, 0, 85, 0],\n",
        "    [125, 32, 7, 0, 10],\n",
        "])"
      ],
      "metadata": {
        "id": "C7sQ2-qFVe0x"
      },
      "execution_count": null,
      "outputs": []
    },
    {
      "cell_type": "markdown",
      "source": [
        "Funções Auxiliares"
      ],
      "metadata": {
        "id": "c7N-uaNYGQaN"
      }
    },
    {
      "cell_type": "code",
      "source": [
        "def print_matriz(matrix, precisao=2, espaçamento=10):\n",
        "\n",
        "    # Verifica se a entrada é uma matriz numpy\n",
        "    if not isinstance(matrix, np.ndarray):\n",
        "        raise ValueError(\"A entrada deve ser uma matriz numpy.\")\n",
        "\n",
        "    # Configura o formato de impressão\n",
        "    format_str = f\"{{:>{espaçamento}.{precisao}f}}\"\n",
        "\n",
        "    # Itera sobre as linhas da matriz e imprime\n",
        "    for linha in matrix:\n",
        "        linhas_formatas = [format_str.format(val) for val in linha]\n",
        "        print(\" \".join(linhas_formatas))\n",
        "\n",
        "def grafico_vetores(vetores):\n",
        "    for vetor in vetores:\n",
        "        plt.quiver(0, 0, vetor[0], vetor[1], angles='xy', scale_units='xy', scale=1)\n",
        "    plt.xlim(-5, 5)\n",
        "    plt.ylim(-5, 5)\n",
        "    plt.grid()\n",
        "    plt.show()"
      ],
      "metadata": {
        "id": "QQBP2fDjXA9n"
      },
      "execution_count": null,
      "outputs": []
    },
    {
      "cell_type": "markdown",
      "source": [
        "Questão 1 - a"
      ],
      "metadata": {
        "id": "SaPkzlseXOkJ"
      }
    },
    {
      "cell_type": "code",
      "source": [
        "# Matriz A = X^T X\n",
        "A = np.dot(X.T, X)\n",
        "autovalores_A, autovetores_A = np.linalg.eig(A)\n",
        "\n",
        "print(\"Decomposição espectral da Matriz A:\")\n",
        "print_matriz(A)\n",
        "print(\"\\n\")\n",
        "print(\"Autovalores de A:\")\n",
        "print(autovalores_A)\n",
        "print(\"\\n\")\n",
        "print(\"Autovetores de A:\")\n",
        "print(autovetores_A)"
      ],
      "metadata": {
        "colab": {
          "base_uri": "https://localhost:8080/"
        },
        "id": "uFdq_TqMXEVf",
        "outputId": "2827e71a-240c-4ada-c373-ba2b2315fca5"
      },
      "execution_count": null,
      "outputs": [
        {
          "output_type": "stream",
          "name": "stdout",
          "text": [
            "Decomposição espectral da Matriz A:\n",
            "  49350.00    8625.00    3045.00   39125.00    5300.00\n",
            "   8625.00    7182.00    2035.00   12825.00    2024.00\n",
            "   3045.00    2035.00    1252.00    7640.00     885.00\n",
            "  39125.00   12825.00    7640.00   86675.00    7950.00\n",
            "   5300.00    2024.00     885.00    7950.00    1634.00\n",
            "\n",
            "\n",
            "Autovalores de A:\n",
            "[115056.09500004  24768.29407747   5193.5074843     368.83725172\n",
            "    706.26618647]\n",
            "\n",
            "\n",
            "Autovetores de A:\n",
            "[[-0.52439217 -0.84442262 -0.09682665 -0.0380223  -0.03379634]\n",
            " [-0.14379011 -0.0204968   0.95713364  0.16698876 -0.18685353]\n",
            " [-0.07310013  0.0612334   0.18832753 -0.96570362  0.15118231]\n",
            " [-0.83163063  0.53167357 -0.13582105  0.06082729 -0.05971933]\n",
            " [-0.08593094 -0.01019824  0.14354507  0.18543357  0.96825672]]\n"
          ]
        }
      ]
    },
    {
      "cell_type": "markdown",
      "source": [
        "Questão 1 - b"
      ],
      "metadata": {
        "id": "1ooUcoq-X_x0"
      }
    },
    {
      "cell_type": "code",
      "source": [
        "S = np.cov(X)\n",
        "\n",
        "print(\"Matriz de Convariância S:\")\n",
        "print_matriz(S)"
      ],
      "metadata": {
        "colab": {
          "base_uri": "https://localhost:8080/"
        },
        "id": "8F4QdtfgXfjD",
        "outputId": "933b5452-7468-411e-bfb2-273d8540359c"
      },
      "execution_count": null,
      "outputs": [
        {
          "output_type": "stream",
          "name": "stdout",
          "text": [
            "Matriz de Convariância S:\n",
            "   1361.20     692.90    1641.20    -199.10    -214.30     190.00    2348.00    1722.60    1513.00     660.70\n",
            "    692.90     845.80    1054.65     -88.20     -36.85    -166.25    1009.75    2061.95     663.50    -692.60\n",
            "   1641.20    1054.65    2357.20    -182.35    -371.80    -152.50    3229.25    2763.10    2016.75     255.45\n",
            "   -199.10     -88.20    -182.35      39.80       1.65     -86.25    -272.75    -179.05    -184.00    -151.60\n",
            "   -214.30     -36.85    -371.80       1.65     149.70      85.00    -563.25    -255.15    -352.00    -135.30\n",
            "    190.00    -166.25    -152.50     -86.25      85.00     425.00      18.75    -582.50      56.25     761.25\n",
            "   2348.00    1009.75    3229.25    -272.75    -563.25      18.75    5170.00    2591.50    3132.50    1593.00\n",
            "   1722.60    2061.95    2763.10    -179.05    -255.15    -582.50    2591.50    5306.30    1729.00   -1874.65\n",
            "   1513.00     663.50    2016.75    -184.00    -352.00      56.25    3132.50    1729.00    1932.50     951.75\n",
            "    660.70    -692.60     255.45    -151.60    -135.30     761.25    1593.00   -1874.65     951.75    2685.70\n"
          ]
        }
      ]
    },
    {
      "cell_type": "markdown",
      "source": [
        "Questão 1 - c"
      ],
      "metadata": {
        "id": "pigWpDDbYXKX"
      }
    },
    {
      "cell_type": "code",
      "source": [
        "# Matriz S = X X^T\n",
        "S = np.dot(X, X.T)\n",
        "\n",
        "autovalores_S, autovetores_S = np.linalg.eig(S)\n",
        "\n",
        "print(\"Decomposição espectral da Matriz S:\")\n",
        "print_matriz(S)\n",
        "print(\"\\n\")\n",
        "print(\"Autovalores de S:\")\n",
        "print(autovalores_S)\n",
        "print(\"\\n\")\n",
        "print(\"Autovetores de S:\")\n",
        "print(autovetores_S)"
      ],
      "metadata": {
        "colab": {
          "base_uri": "https://localhost:8080/"
        },
        "id": "1CAmg0hHYH76",
        "outputId": "b2ef8715-2c63-44f4-e081-afe420f83296"
      },
      "execution_count": null,
      "outputs": [
        {
          "output_type": "stream",
          "name": "stdout",
          "text": [
            "Decomposição espectral da Matriz S:\n",
            "     21.62       5.72      21.14      16.54      25.18      20.29\n",
            "      5.72       1.55       5.65       4.38       6.62       5.38\n",
            "     21.14       5.65      21.09      16.44      24.76      20.17\n",
            "     16.54       4.38      16.44      12.86      19.42      15.77\n",
            "     25.18       6.62      24.76      19.42      29.50      23.81\n",
            "     20.29       5.38      20.17      15.77      23.81      19.34\n",
            "\n",
            "\n",
            "Autovalores de S:\n",
            "[ 1.05525090e+02  3.05536575e-01  1.29372996e-01  2.48174290e-15\n",
            " -4.01470881e-15 -2.92037646e-15]\n",
            "\n",
            "\n",
            "Autovetores de S:\n",
            "[[ 0.4511304   0.62459664 -0.4350026   0.21007676  0.25272451  0.14849615]\n",
            " [ 0.11948972 -0.00495192 -0.57870671  0.13297776 -0.72331939 -0.56537297]\n",
            " [ 0.44586922 -0.55674068 -0.36223234 -0.54205605  0.4023778   0.36041183]\n",
            " [ 0.34873115 -0.2532235   0.23495701  0.48550005 -0.48421238 -0.69632451]\n",
            " [ 0.52806705  0.36458494  0.50664358 -0.44456199 -0.11651941 -0.01211149]\n",
            " [ 0.42771017 -0.32070239  0.1810152   0.45936287  0.05470911  0.20830533]]\n"
          ]
        }
      ]
    },
    {
      "cell_type": "markdown",
      "source": [
        "Criei uma função para melhorar a visualizar dos autovetores e autovalores que possuem valores imaginarios ou complexos."
      ],
      "metadata": {
        "id": "Tgrbcs21h5PR"
      }
    },
    {
      "cell_type": "code",
      "source": [
        "# Função para formatar autovalores e autovetores de forma legível\n",
        "def formatar_valores(valores, casas_decimais=2):\n",
        "    valores_formatados = []\n",
        "    for valor in valores:\n",
        "        if np.iscomplex(valor):\n",
        "            real = f\"{valor.real:.{casas_decimais}f}\"\n",
        "            imag = f\"{valor.imag:.{casas_decimais}f}\"\n",
        "            if abs(valor.imag) < 1e-10:  # Se a parte imaginária for muito pequena, considere como zero\n",
        "                valores_formatados.append(real)\n",
        "            else:\n",
        "                valores_formatados.append(f\"{real} + {imag}j\")\n",
        "        else:\n",
        "            valores_formatados.append(f\"{valor:.{casas_decimais}f}\")\n",
        "    return valores_formatados\n",
        "\n",
        "print(\"Autovalores de S:\")\n",
        "print(formatar_valores(autovalores_S))\n",
        "print(\"\\n\")\n",
        "print(\"Autovetores de S:\")\n",
        "for autovetor in autovetores_S.T:  # Itera pelas colunas (autovetores)\n",
        "    print(formatar_valores(autovetor))"
      ],
      "metadata": {
        "colab": {
          "base_uri": "https://localhost:8080/"
        },
        "id": "C_XAQFCGg4Om",
        "outputId": "5cf36fac-782f-4ad5-b862-a19cc82269c7"
      },
      "execution_count": null,
      "outputs": [
        {
          "output_type": "stream",
          "name": "stdout",
          "text": [
            "Autovalores de S:\n",
            "['105.53', '0.31', '0.13', '0.00', '-0.00', '-0.00']\n",
            "\n",
            "\n",
            "Autovetores de S:\n",
            "['0.45', '0.12', '0.45', '0.35', '0.53', '0.43']\n",
            "['0.62', '-0.00', '-0.56', '-0.25', '0.36', '-0.32']\n",
            "['-0.44', '-0.58', '-0.36', '0.23', '0.51', '0.18']\n",
            "['0.21', '0.13', '-0.54', '0.49', '-0.44', '0.46']\n",
            "['0.25', '-0.72', '0.40', '-0.48', '-0.12', '0.05']\n",
            "['0.15', '-0.57', '0.36', '-0.70', '-0.01', '0.21']\n"
          ]
        }
      ]
    },
    {
      "cell_type": "markdown",
      "source": [
        "Questão 2"
      ],
      "metadata": {
        "id": "iE_-XzYnaZRU"
      }
    },
    {
      "cell_type": "code",
      "source": [
        "def calcular_pca_sem_media(X, n_componentes=2):\n",
        "    pca = PCA(n_components=n_componentes)\n",
        "\n",
        "    pca.fit_transform(X)\n",
        "\n",
        "    Y = pca.components_.T\n",
        "\n",
        "    return Y\n",
        "\n",
        "# Calcular PCA usando a abordagem sem cálculo explícito de média\n",
        "Y = calcular_pca_sem_media(X, 2)\n",
        "\n",
        "# Imprimir os fatores para cada observação\n",
        "for i, y in enumerate(Y):\n",
        "    y_formatado = [f\"{valor:.2f}\" for valor in y]\n",
        "    print(f\"Fatores para observação O{i+1}: {y_formatado}\")\n",
        "\n",
        "print(\"\\nMatriz de autovetores (V):\")\n",
        "print(Y)"
      ],
      "metadata": {
        "colab": {
          "base_uri": "https://localhost:8080/"
        },
        "id": "iMvZhTpdl5jY",
        "outputId": "29bbd35c-5213-4418-a54f-1e3ae4a3466f"
      },
      "execution_count": null,
      "outputs": [
        {
          "output_type": "stream",
          "name": "stdout",
          "text": [
            "Fatores para observação O1: ['-0.59', '0.35']\n",
            "Fatores para observação O2: ['-0.56', '-0.83']\n",
            "Fatores para observação O3: ['-0.59', '0.43']\n",
            "\n",
            "Matriz de autovetores (V):\n",
            "[[-0.5866243   0.3543735 ]\n",
            " [-0.55905493 -0.8277668 ]\n",
            " [-0.58594327  0.43499604]]\n"
          ]
        }
      ]
    },
    {
      "cell_type": "code",
      "source": [
        "indices_ordenados = np.argsort(Y[:, 0])  # Ordenando pela primeira coluna\n",
        "\n",
        "# Observações ordenadas no eixo x\n",
        "Y_ordenado = Y[indices_ordenados]\n",
        "\n",
        "print(\"\\nObservações ordenadas no eixo x:\")\n",
        "print(Y_ordenado)"
      ],
      "metadata": {
        "colab": {
          "base_uri": "https://localhost:8080/"
        },
        "id": "dffClyMxbEkm",
        "outputId": "76255813-5f03-44df-b94a-86b6f6a237cb"
      },
      "execution_count": null,
      "outputs": [
        {
          "output_type": "stream",
          "name": "stdout",
          "text": [
            "\n",
            "Observações ordenadas no eixo x:\n",
            "[[-0.5866243   0.3543735 ]\n",
            " [-0.58594327  0.43499604]\n",
            " [-0.55905493 -0.8277668 ]]\n"
          ]
        }
      ]
    },
    {
      "cell_type": "code",
      "source": [
        "# Encontrando os vetores com os menores e maiores valores no primeiro componente\n",
        "min_index = np.argmin(Y[:, 0])\n",
        "max_index = np.argmax(Y[:, 0])\n",
        "\n",
        "print(f\"\\nVetor com o menor valor no primeiro componente: O{min_index+1}\")\n",
        "print(Y[min_index])\n",
        "\n",
        "print(f\"\\nVetor com o maior valor no primeiro componente: O{max_index+1}\")\n",
        "print(Y[max_index])"
      ],
      "metadata": {
        "colab": {
          "base_uri": "https://localhost:8080/"
        },
        "id": "6F0BygGIip9J",
        "outputId": "fa0bb438-a9ab-482b-f69f-83a82411856e"
      },
      "execution_count": null,
      "outputs": [
        {
          "output_type": "stream",
          "name": "stdout",
          "text": [
            "\n",
            "Vetor com o menor valor no primeiro componente: O1\n",
            "[-0.5866243  0.3543735]\n",
            "\n",
            "Vetor com o maior valor no primeiro componente: O2\n",
            "[-0.55905493 -0.8277668 ]\n"
          ]
        }
      ]
    },
    {
      "cell_type": "code",
      "source": [
        "#visualizando os vetores\n",
        "vetores = []\n",
        "vetores = Y[min_index], Y[max_index]\n",
        "grafico_vetores(vetores)"
      ],
      "metadata": {
        "colab": {
          "base_uri": "https://localhost:8080/",
          "height": 430
        },
        "id": "-NswORsjjNR7",
        "outputId": "f14c2c00-1c88-426a-94ea-0e0f8031d555"
      },
      "execution_count": null,
      "outputs": [
        {
          "output_type": "display_data",
          "data": {
            "text/plain": [
              "<Figure size 640x480 with 1 Axes>"
            ],
            "image/png": "[encoded data removed]"
          },
          "metadata": {}
        }
      ]
    },
    {
      "cell_type": "markdown",
      "source": [
        "Questão 2"
      ],
      "metadata": {
        "id": "Y6423XPKkkkc"
      }
    },
    {
      "cell_type": "code",
      "source": [
        "# Vetores originais correspondentes\n",
        "vetor_min = X[min_index]\n",
        "vetor_max = X[max_index]\n",
        "\n",
        "#produto escalar e ângulo\n",
        "produto_escalar = np.dot(vetor_min, vetor_max)\n",
        "norma_min = np.linalg.norm(vetor_min)\n",
        "norma_max = np.linalg.norm(vetor_max)\n",
        "\n",
        "#cosseno do ângulo\n",
        "cos_theta = produto_escalar / (norma_min * norma_max)\n",
        "\n",
        "#precisamos garantir que o valor esteja no intervalo de -1 a 1 para evitar erros numéricos\n",
        "cos_theta = np.clip(cos_theta, -1.0, 1.0)\n",
        "\n",
        "#ângulo em radianos e em graus\n",
        "angulo_rad = np.arccos(cos_theta)\n",
        "angulo_graus = np.degrees(angulo_rad)\n",
        "\n",
        "print(f\"Vetor com o menor valor no primeiro componente: {vetor_min}\")\n",
        "print(f\"Vetor com o maior valor no primeiro componente: {vetor_max}\")\n",
        "print(f\"\\nÂngulo entre os vetores (em radianos): {angulo_rad:.2f}\")\n",
        "print(f\"Ângulo entre os vetores (em graus): {angulo_graus:.2f}\")\n"
      ],
      "metadata": {
        "colab": {
          "base_uri": "https://localhost:8080/"
        },
        "id": "NotN1UlZj0AD",
        "outputId": "91f81fba-b9d4-4ec0-9c5d-716cf46220ce"
      },
      "execution_count": null,
      "outputs": [
        {
          "output_type": "stream",
          "name": "stdout",
          "text": [
            "Vetor com o menor valor no primeiro componente: [3.1 3.  3.3]\n",
            "Vetor com o maior valor no primeiro componente: [0.5 0.7 0.9]\n",
            "\n",
            "Ângulo entre os vetores (em radianos): 0.21\n",
            "Ângulo entre os vetores (em graus): 11.76\n"
          ]
        }
      ]
    },
    {
      "cell_type": "markdown",
      "source": [
        "Questã0 3"
      ],
      "metadata": {
        "id": "kQvuWhhrl29g"
      }
    },
    {
      "cell_type": "code",
      "source": [
        "def pca_com_media(X, n_componentes):\n",
        "\n",
        "    media = np.mean(X, axis=0)\n",
        "    #vetor de uns (1p)\n",
        "    ones = np.ones((X.shape[0], 1))\n",
        "\n",
        "    X_centralizado = X - ones @ media.reshape(1, -1)\n",
        "\n",
        "    #calculando o PCA\n",
        "    pca = PCA(n_componentes)\n",
        "    pca.fit(X_centralizado)\n",
        "\n",
        "    #matriz de autovetores (V)\n",
        "    V = pca.components_.T\n",
        "\n",
        "    #calculando Y (produto int)\n",
        "    Y = np.dot(X_centralizado, V)\n",
        "\n",
        "    return Y, media, V"
      ],
      "metadata": {
        "id": "b2mgb5vVY1Xp"
      },
      "execution_count": null,
      "outputs": []
    },
    {
      "cell_type": "code",
      "source": [
        "# Obtendo os dois primeiros fatores para cada observação\n",
        "Y, media, V = pca_com_media(X, 2)\n",
        "\n",
        "\n",
        "for i, y in enumerate(Y):\n",
        "    y_formatado = [f\"{valor:.2f}\" for valor in y]\n",
        "    print(f\"Fatores para observação O{i+1}: {y_formatado}\")"
      ],
      "metadata": {
        "colab": {
          "base_uri": "https://localhost:8080/"
        },
        "id": "Q_jNJ3E5a6B3",
        "outputId": "e3990461-10ec-4260-fde6-e89dbdabe9f1"
      },
      "execution_count": null,
      "outputs": [
        {
          "output_type": "stream",
          "name": "stdout",
          "text": [
            "Fatores para observação O1: ['-0.66', '0.35']\n",
            "Fatores para observação O2: ['2.75', '0.10']\n",
            "Fatores para observação O3: ['-0.59', '-0.30']\n",
            "Fatores para observação O4: ['0.39', '-0.13']\n",
            "Fatores para observação O5: ['-1.47', '0.16']\n",
            "Fatores para observação O6: ['-0.42', '-0.18']\n"
          ]
        }
      ]
    },
    {
      "cell_type": "code",
      "source": [
        "indices_ordenados = np.argsort(Y[:, 0])  # Ordenando pela primeira coluna\n",
        "\n",
        "# Observações ordenadas no eixo x\n",
        "Y_ordenado = Y[indices_ordenados]\n",
        "\n",
        "print(\"\\nObservações ordenadas no eixo x:\")\n",
        "print(Y_ordenado)"
      ],
      "metadata": {
        "colab": {
          "base_uri": "https://localhost:8080/"
        },
        "id": "O0V9KD3apJUR",
        "outputId": "fb6f2774-9f15-416b-bf59-5ad8d1b864e9"
      },
      "execution_count": null,
      "outputs": [
        {
          "output_type": "stream",
          "name": "stdout",
          "text": [
            "\n",
            "Observações ordenadas no eixo x:\n",
            "[[-1.4667083   0.15713578]\n",
            " [-0.66211211  0.35417255]\n",
            " [-0.5898693  -0.29652171]\n",
            " [-0.41953209 -0.18253021]\n",
            " [ 0.38761673 -0.12789423]\n",
            " [ 2.75060507  0.09563783]]\n"
          ]
        }
      ]
    },
    {
      "cell_type": "code",
      "source": [
        "# Encontrando os vetores com os menores e maiores valores no primeiro componente\n",
        "min_index = np.argmin(Y[:, 0])\n",
        "max_index = np.argmax(Y[:, 0])\n",
        "\n",
        "print(f\"\\nVetor com o menor valor no primeiro componente: O{min_index+1}\")\n",
        "print(Y[min_index])\n",
        "\n",
        "print(f\"\\nVetor com o maior valor no primeiro componente: O{max_index+1}\")\n",
        "print(Y[max_index])"
      ],
      "metadata": {
        "colab": {
          "base_uri": "https://localhost:8080/"
        },
        "id": "7PAAcaslpMDI",
        "outputId": "39f8821e-6833-4e66-bf1b-651b138473a6"
      },
      "execution_count": null,
      "outputs": [
        {
          "output_type": "stream",
          "name": "stdout",
          "text": [
            "\n",
            "Vetor com o menor valor no primeiro componente: O5\n",
            "[-1.4667083   0.15713578]\n",
            "\n",
            "Vetor com o maior valor no primeiro componente: O2\n",
            "[2.75060507 0.09563783]\n"
          ]
        }
      ]
    },
    {
      "cell_type": "code",
      "source": [
        "#visualizando os vetores\n",
        "vetores = []\n",
        "vetores = Y[min_index], Y[max_index]\n",
        "grafico_vetores(vetores)"
      ],
      "metadata": {
        "colab": {
          "base_uri": "https://localhost:8080/",
          "height": 435
        },
        "id": "4UM_qXWTpOh7",
        "outputId": "906e2dee-d293-4d87-ad41-53752705fc43"
      },
      "execution_count": null,
      "outputs": [
        {
          "output_type": "display_data",
          "data": {
            "text/plain": [
              "<Figure size 640x480 with 1 Axes>"
            ],
            "image/png": "[encoded data removed]"
          },
          "metadata": {}
        }
      ]
    },
    {
      "cell_type": "code",
      "source": [
        "# Vetores originais correspondentes\n",
        "vetor_min = X[min_index]\n",
        "vetor_max = X[max_index]\n",
        "\n",
        "#produto escalar e ângulo\n",
        "produto_escalar = np.dot(vetor_min, vetor_max)\n",
        "norma_min = np.linalg.norm(vetor_min)\n",
        "norma_max = np.linalg.norm(vetor_max)\n",
        "\n",
        "#cosseno do ângulo\n",
        "cos_theta = produto_escalar / (norma_min * norma_max)\n",
        "\n",
        "#precisamos garantir que o valor esteja no intervalo de -1 a 1 para evitar erros numéricos\n",
        "cos_theta = np.clip(cos_theta, -1.0, 1.0)\n",
        "\n",
        "#ângulo em radianos e em graus\n",
        "angulo_rad = np.arccos(cos_theta)\n",
        "angulo_graus = np.degrees(angulo_rad)\n",
        "\n",
        "print(f\"Vetor com o menor valor no primeiro componente: {vetor_min}\")\n",
        "print(f\"Vetor com o maior valor no primeiro componente: {vetor_max}\")\n",
        "print(f\"\\nÂngulo entre os vetores (em radianos): {angulo_rad:.2f}\")\n",
        "print(f\"Ângulo entre os vetores (em graus): {angulo_graus:.2f}\")\n"
      ],
      "metadata": {
        "colab": {
          "base_uri": "https://localhost:8080/"
        },
        "id": "3BRd-b-hpRLV",
        "outputId": "d3f15890-45e4-4307-a87f-5f6be317dfbb"
      },
      "execution_count": null,
      "outputs": [
        {
          "output_type": "stream",
          "name": "stdout",
          "text": [
            "Vetor com o menor valor no primeiro componente: [3.1 3.  3.3]\n",
            "Vetor com o maior valor no primeiro componente: [0.5 0.7 0.9]\n",
            "\n",
            "Ângulo entre os vetores (em radianos): 0.21\n",
            "Ângulo entre os vetores (em graus): 11.76\n"
          ]
        }
      ]
    },
    {
      "cell_type": "code",
      "source": [
        "# Ordenar autovalores em ordem decrescente\n",
        "indices = np.argsort(autovalores_S)[::-1]\n",
        "autovalores_S = autovalores_S[indices]\n",
        "\n",
        "# Calcular a razão usando os dois maiores autovalores\n",
        "soma_dois_maiores = np.sum(autovalores_S[:2])\n",
        "soma_todos = np.sum(autovalores_S)\n",
        "razao_dois_maiores = soma_dois_maiores / soma_todos\n",
        "\n",
        "\n",
        "print(\"\\nRazão entre a soma dos dois maiores autovalores e a soma de todos os autovalores:\")\n",
        "print(f\"{razao_dois_maiores:.2f}\")"
      ],
      "metadata": {
        "colab": {
          "base_uri": "https://localhost:8080/"
        },
        "id": "G8W5-2G_trOL",
        "outputId": "537da675-1077-44a8-92fe-c73d05b5cdd1"
      },
      "execution_count": null,
      "outputs": [
        {
          "output_type": "stream",
          "name": "stdout",
          "text": [
            "\n",
            "Razão entre a soma dos dois maiores autovalores e a soma de todos os autovalores:\n",
            "1.00\n"
          ]
        }
      ]
    },
    {
      "cell_type": "code",
      "source": [
        "#calcula o pca usando 3 fatores\n",
        "def calcular_pca(X, n_componentes=3):\n",
        "    pca = PCA(n_componentes)\n",
        "    Y = pca.fit_transform(X)\n",
        "    return Y, pca.explained_variance_ratio_\n",
        "\n",
        "# PCA com 3 componentes\n",
        "Y, explained_variance = calcular_pca(X, 3)\n",
        "\n",
        "print(\"\\nProporção de variância explicada por 3 componentes:\")\n",
        "print(explained_variance)\n",
        "print(\"Soma da variância explicada pelos 3 componentes:\")\n",
        "print(np.sum(explained_variance))"
      ],
      "metadata": {
        "colab": {
          "base_uri": "https://localhost:8080/"
        },
        "id": "wtm0WJ4Dt6SK",
        "outputId": "1e3a3f04-f90e-47db-ff3a-45455150dcc8"
      },
      "execution_count": null,
      "outputs": [
        {
          "output_type": "stream",
          "name": "stdout",
          "text": [
            "\n",
            "Proporção de variância explicada por 3 componentes:\n",
            "[0.9660708  0.02648312 0.00744608]\n",
            "Soma da variância explicada pelos 3 componentes:\n",
            "1.0000000000000002\n"
          ]
        }
      ]
    }
  ]
}